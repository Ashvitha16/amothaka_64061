{
 "cells": [
  {
   "cell_type": "code",
   "execution_count": 90,
   "id": "0ed4b517",
   "metadata": {},
   "outputs": [],
   "source": [
    "from tensorflow.keras.datasets import imdb\n",
    "(train_data, train_labels), (test_data, test_labels) = imdb.load_data(\n",
    "    num_words=10000)"
   ]
  },
  {
   "cell_type": "code",
   "execution_count": 91,
   "id": "44d40145",
   "metadata": {},
   "outputs": [
    {
     "data": {
      "text/plain": [
       "1"
      ]
     },
     "execution_count": 91,
     "metadata": {},
     "output_type": "execute_result"
    }
   ],
   "source": [
    "train_labels[0]"
   ]
  },
  {
   "cell_type": "code",
   "execution_count": 92,
   "id": "d0b5ef8f",
   "metadata": {},
   "outputs": [
    {
     "data": {
      "text/plain": [
       "9999"
      ]
     },
     "execution_count": 92,
     "metadata": {},
     "output_type": "execute_result"
    }
   ],
   "source": [
    "max([max(sequence) for sequence in train_data])"
   ]
  },
  {
   "cell_type": "code",
   "execution_count": 93,
   "id": "cde664d8",
   "metadata": {},
   "outputs": [],
   "source": [
    "word_index = imdb.get_word_index()\n",
    "reverse_word_index = dict(\n",
    "    [(value, key) for (key, value) in word_index.items()])\n",
    "decoded_review = \" \".join(\n",
    "    [reverse_word_index.get(i - 3, \"?\") for i in train_data[0]])"
   ]
  },
  {
   "cell_type": "code",
   "execution_count": 94,
   "id": "e4240138",
   "metadata": {},
   "outputs": [],
   "source": [
    "import numpy as np\n",
    "def vectorize_sequences(sequences, dimension=10000):\n",
    "    results = np.zeros((len(sequences), dimension))\n",
    "    for i, sequence in enumerate(sequences):\n",
    "        for j in sequence:\n",
    "            results[i, j] = 1.\n",
    "    return results\n",
    "x_train = vectorize_sequences(train_data)\n",
    "x_test = vectorize_sequences(test_data)"
   ]
  },
  {
   "cell_type": "code",
   "execution_count": 95,
   "id": "f5b78735",
   "metadata": {},
   "outputs": [
    {
     "data": {
      "text/plain": [
       "array([0., 1., 1., ..., 0., 0., 0.])"
      ]
     },
     "execution_count": 95,
     "metadata": {},
     "output_type": "execute_result"
    }
   ],
   "source": [
    "x_train[0]"
   ]
  },
  {
   "cell_type": "code",
   "execution_count": 96,
   "id": "1e3aac2e",
   "metadata": {},
   "outputs": [],
   "source": [
    "y_train = np.asarray(train_labels).astype(\"float32\")\n",
    "y_test = np.asarray(test_labels).astype(\"float32\")"
   ]
  },
  {
   "cell_type": "markdown",
   "id": "b7635225",
   "metadata": {},
   "source": [
    "### model building using single hidden layer with 32 hidden units using tanh activation function"
   ]
  },
  {
   "cell_type": "code",
   "execution_count": 97,
   "id": "dffe8ff8",
   "metadata": {},
   "outputs": [],
   "source": [
    "from tensorflow import keras\n",
    "from tensorflow.keras import layers\n",
    "\n",
    "model = keras.Sequential([\n",
    "    layers.Dense(32, activation=\"tanh\"),\n",
    "    layers.Dense(1, activation=\"sigmoid\")\n",
    "])"
   ]
  },
  {
   "cell_type": "markdown",
   "id": "f7f2ce29",
   "metadata": {},
   "source": [
    "### Observations & Modifications:\n",
    "\n",
    "#### Here the above neural network designed is a single layer and contains 32 hidden units with tanh activation function \n",
    "#### The output layer Sigmoid activation units "
   ]
  },
  {
   "cell_type": "markdown",
   "id": "449cd070",
   "metadata": {},
   "source": [
    "### Compiling the model using mse instead of binary_crossentropy."
   ]
  },
  {
   "cell_type": "code",
   "execution_count": 98,
   "id": "2a208143",
   "metadata": {},
   "outputs": [],
   "source": [
    "model.compile(optimizer=\"adam\", #changing optimizer to ADAM\n",
    "              loss=\"mean_squared_error\",\n",
    "              metrics=[\"accuracy\"])"
   ]
  },
  {
   "cell_type": "markdown",
   "id": "dca5283d",
   "metadata": {},
   "source": [
    "####  Among optimizers I prefer to select adam replacing rmsprop. \n",
    "#### From several sources and recent trends from google, Adam is considered as best among optimizers.\n",
    "#### loss is change to mse from binary_crossentrophy"
   ]
  },
  {
   "cell_type": "markdown",
   "id": "c6854f06",
   "metadata": {},
   "source": [
    "### Validating the approach"
   ]
  },
  {
   "cell_type": "code",
   "execution_count": 99,
   "id": "8b490187",
   "metadata": {},
   "outputs": [],
   "source": [
    "x_val = x_train[:10000]\n",
    "partial_x_train = x_train[10000:]\n",
    "y_val = y_train[:10000]\n",
    "partial_y_train = y_train[10000:]"
   ]
  },
  {
   "cell_type": "code",
   "execution_count": 100,
   "id": "edb1f363",
   "metadata": {},
   "outputs": [
    {
     "name": "stdout",
     "output_type": "stream",
     "text": [
      "Epoch 1/20\n",
      "59/59 [==============================] - 1s 11ms/step - loss: 0.1349 - accuracy: 0.8348 - val_loss: 0.0971 - val_accuracy: 0.8780\n",
      "Epoch 2/20\n",
      "59/59 [==============================] - 0s 8ms/step - loss: 0.0658 - accuracy: 0.9261 - val_loss: 0.0836 - val_accuracy: 0.8912\n",
      "Epoch 3/20\n",
      "59/59 [==============================] - 0s 8ms/step - loss: 0.0455 - accuracy: 0.9537 - val_loss: 0.0835 - val_accuracy: 0.8861\n",
      "Epoch 4/20\n",
      "59/59 [==============================] - 0s 8ms/step - loss: 0.0335 - accuracy: 0.9686 - val_loss: 0.0848 - val_accuracy: 0.8836\n",
      "Epoch 5/20\n",
      "59/59 [==============================] - 0s 8ms/step - loss: 0.0252 - accuracy: 0.9806 - val_loss: 0.0876 - val_accuracy: 0.8812\n",
      "Epoch 6/20\n",
      "59/59 [==============================] - 0s 8ms/step - loss: 0.0195 - accuracy: 0.9861 - val_loss: 0.0899 - val_accuracy: 0.8790\n",
      "Epoch 7/20\n",
      "59/59 [==============================] - 0s 8ms/step - loss: 0.0151 - accuracy: 0.9897 - val_loss: 0.0928 - val_accuracy: 0.8767\n",
      "Epoch 8/20\n",
      "59/59 [==============================] - 0s 8ms/step - loss: 0.0120 - accuracy: 0.9927 - val_loss: 0.0948 - val_accuracy: 0.8755\n",
      "Epoch 9/20\n",
      "59/59 [==============================] - 0s 7ms/step - loss: 0.0094 - accuracy: 0.9941 - val_loss: 0.0972 - val_accuracy: 0.8737\n",
      "Epoch 10/20\n",
      "59/59 [==============================] - 0s 7ms/step - loss: 0.0079 - accuracy: 0.9949 - val_loss: 0.0989 - val_accuracy: 0.8721\n",
      "Epoch 11/20\n",
      "59/59 [==============================] - 0s 7ms/step - loss: 0.0068 - accuracy: 0.9956 - val_loss: 0.1003 - val_accuracy: 0.8715\n",
      "Epoch 12/20\n",
      "59/59 [==============================] - 0s 7ms/step - loss: 0.0059 - accuracy: 0.9960 - val_loss: 0.1017 - val_accuracy: 0.8694\n",
      "Epoch 13/20\n",
      "59/59 [==============================] - 0s 7ms/step - loss: 0.0053 - accuracy: 0.9963 - val_loss: 0.1026 - val_accuracy: 0.8703\n",
      "Epoch 14/20\n",
      "59/59 [==============================] - 0s 7ms/step - loss: 0.0048 - accuracy: 0.9965 - val_loss: 0.1037 - val_accuracy: 0.8679\n",
      "Epoch 15/20\n",
      "59/59 [==============================] - 0s 7ms/step - loss: 0.0044 - accuracy: 0.9967 - val_loss: 0.1055 - val_accuracy: 0.8661\n",
      "Epoch 16/20\n",
      "59/59 [==============================] - 0s 8ms/step - loss: 0.0041 - accuracy: 0.9969 - val_loss: 0.1056 - val_accuracy: 0.8674\n",
      "Epoch 17/20\n",
      "59/59 [==============================] - 0s 7ms/step - loss: 0.0039 - accuracy: 0.9969 - val_loss: 0.1064 - val_accuracy: 0.8660\n",
      "Epoch 18/20\n",
      "59/59 [==============================] - 0s 7ms/step - loss: 0.0036 - accuracy: 0.9970 - val_loss: 0.1071 - val_accuracy: 0.8663\n",
      "Epoch 19/20\n",
      "59/59 [==============================] - 0s 7ms/step - loss: 0.0035 - accuracy: 0.9971 - val_loss: 0.1081 - val_accuracy: 0.8648\n",
      "Epoch 20/20\n",
      "59/59 [==============================] - 0s 7ms/step - loss: 0.0034 - accuracy: 0.9971 - val_loss: 0.1086 - val_accuracy: 0.8649\n"
     ]
    }
   ],
   "source": [
    "## model planned to train with 20 epoch with batch size of 256\n",
    "\n",
    "history = model.fit(partial_x_train,\n",
    "                    partial_y_train,\n",
    "                    epochs=20,\n",
    "                    batch_size=256,\n",
    "                    validation_data=(x_val, y_val))"
   ]
  },
  {
   "cell_type": "code",
   "execution_count": 101,
   "id": "52cb1367",
   "metadata": {},
   "outputs": [
    {
     "data": {
      "text/plain": [
       "dict_keys(['loss', 'accuracy', 'val_loss', 'val_accuracy'])"
      ]
     },
     "execution_count": 101,
     "metadata": {},
     "output_type": "execute_result"
    }
   ],
   "source": [
    "history_dict = history.history\n",
    "history_dict.keys()"
   ]
  },
  {
   "cell_type": "markdown",
   "id": "97761377",
   "metadata": {},
   "source": [
    "### Plotting the train & Validation loss"
   ]
  },
  {
   "cell_type": "code",
   "execution_count": 102,
   "id": "7947e3a4",
   "metadata": {},
   "outputs": [
    {
     "data": {
      "image/png": "[encoded data removed]",
      "text/plain": [
       "<Figure size 432x288 with 1 Axes>"
      ]
     },
     "metadata": {
      "needs_background": "light"
     },
     "output_type": "display_data"
    }
   ],
   "source": [
    "import matplotlib.pyplot as plt\n",
    "history_dict = history.history\n",
    "loss_values = history_dict[\"loss\"]\n",
    "val_loss_values = history_dict[\"val_loss\"]\n",
    "epochs = range(1, len(loss_values) + 1)\n",
    "plt.plot(epochs, loss_values, \"bo\", label=\"Training loss\")\n",
    "plt.plot(epochs, val_loss_values, \"b\", label=\"Validation loss\")\n",
    "plt.title(\"Training and validation loss\")\n",
    "plt.xlabel(\"Epochs\")\n",
    "plt.ylabel(\"Loss\")\n",
    "plt.legend()\n",
    "plt.show()"
   ]
  },
  {
   "cell_type": "markdown",
   "id": "81b8bca0",
   "metadata": {},
   "source": [
    "**Plotting the training and validation accuracy**"
   ]
  },
  {
   "cell_type": "code",
   "execution_count": 103,
   "id": "f8cf4f21",
   "metadata": {},
   "outputs": [
    {
     "data": {
      "image/png": "[encoded data removed]",
      "text/plain": [
       "<Figure size 432x288 with 1 Axes>"
      ]
     },
     "metadata": {
      "needs_background": "light"
     },
     "output_type": "display_data"
    }
   ],
   "source": [
    "plt.clf()\n",
    "acc = history_dict[\"accuracy\"]\n",
    "val_acc = history_dict[\"val_accuracy\"]\n",
    "plt.plot(epochs, acc, \"bo\", label=\"Training acc\")\n",
    "plt.plot(epochs, val_acc, \"b\", label=\"Validation acc\")\n",
    "plt.title(\"Training and validation accuracy\")\n",
    "plt.xlabel(\"Epochs\")\n",
    "plt.ylabel(\"Accuracy\")\n",
    "plt.legend()\n",
    "plt.show()"
   ]
  },
  {
   "cell_type": "markdown",
   "id": "2571251e",
   "metadata": {},
   "source": [
    "#### From the above figure we can notice that training accuracy almost reaches to 100 percent accurately 99.81 with 20 epochs\n",
    "#### if we observe the validation accuracy, initially it tends to increase and then decreases may be at the end it gives a constant 86%"
   ]
  },
  {
   "cell_type": "code",
   "execution_count": 104,
   "id": "06ad0219",
   "metadata": {},
   "outputs": [
    {
     "name": "stdout",
     "output_type": "stream",
     "text": [
      "782/782 [==============================] - 1s 2ms/step - loss: 0.1184 - accuracy: 0.8532\n"
     ]
    }
   ],
   "source": [
    "results = model.evaluate(x_test, y_test)"
   ]
  },
  {
   "cell_type": "code",
   "execution_count": 105,
   "id": "22190590",
   "metadata": {},
   "outputs": [
    {
     "data": {
      "text/plain": [
       "[0.11842090636491776, 0.8532000184059143]"
      ]
     },
     "execution_count": 105,
     "metadata": {},
     "output_type": "execute_result"
    }
   ],
   "source": [
    "results"
   ]
  },
  {
   "cell_type": "markdown",
   "id": "b7abf977",
   "metadata": {},
   "source": [
    "## Lets consider adding dropout layer & Regularizers"
   ]
  },
  {
   "cell_type": "code",
   "execution_count": 107,
   "id": "5b1cacd2",
   "metadata": {},
   "outputs": [],
   "source": [
    "from tensorflow import keras\n",
    "from tensorflow.keras import layers\n",
    "from keras.layers import Dense\n",
    "from keras.layers import Dropout\n",
    "from tensorflow.keras import regularizers\n",
    "\n",
    "\n",
    "model = keras.Sequential()\n",
    "model.add(Dense(32,activation='tanh', activity_regularizer=regularizers.L2(0.01)))\n",
    "model.add(Dropout(0.2))\n",
    "model.add(Dense(1, activation='sigmoid'))\n",
    "\n",
    "model.compile(optimizer=\"adam\", #changing optimizer to ADAM\n",
    "              loss=\"mean_squared_error\",\n",
    "              metrics=[\"accuracy\"])\n",
    "\n",
    "          \n",
    "x_val = x_train[:10000]\n",
    "partial_x_train = x_train[10000:]\n",
    "y_val = y_train[:10000]\n",
    "partial_y_train = y_train[10000:]\n",
    "\n",
    "          \n",
    "\n",
    "history = model.fit(partial_x_train,\n",
    "                    partial_y_train,\n",
    "                    epochs=0,\n",
    "                    batch_size=256,\n",
    "                    validation_data=(x_val, y_val))"
   ]
  },
  {
   "cell_type": "code",
   "execution_count": 108,
   "id": "c9be7b15",
   "metadata": {},
   "outputs": [
    {
     "data": {
      "image/png": "[encoded data removed]",
      "text/plain": [
       "<Figure size 432x288 with 1 Axes>"
      ]
     },
     "metadata": {
      "needs_background": "light"
     },
     "output_type": "display_data"
    }
   ],
   "source": [
    "plt.clf()\n",
    "acc = history_dict[\"accuracy\"]\n",
    "val_acc = history_dict[\"val_accuracy\"]\n",
    "plt.plot(epochs, acc, \"bo\", label=\"Training acc\")\n",
    "plt.plot(epochs, val_acc, \"b\", label=\"Validation acc\")\n",
    "plt.title(\"Training and validation accuracy\")\n",
    "plt.xlabel(\"Epochs\")\n",
    "plt.ylabel(\"Accuracy\")\n",
    "plt.legend()\n",
    "plt.show()"
   ]
  },
  {
   "cell_type": "markdown",
   "id": "acb59de8",
   "metadata": {},
   "source": [
    "#### When I tried to use dropout layer it does not bring significant impact on my results\n",
    "### validation accuracy just incremented on a decimal-- 86.69%"
   ]
  },
  {
   "cell_type": "code",
   "execution_count": 67,
   "id": "4d0071ca",
   "metadata": {},
   "outputs": [
    {
     "name": "stdout",
     "output_type": "stream",
     "text": [
      "782/782 [==============================] - 1s 1ms/step - loss: 0.6047 - accuracy: 0.7688\n"
     ]
    }
   ],
   "source": [
    "results = model.evaluate(x_test, y_test)"
   ]
  },
  {
   "cell_type": "code",
   "execution_count": 68,
   "id": "084ff322",
   "metadata": {},
   "outputs": [
    {
     "data": {
      "text/plain": [
       "[0.6047281622886658, 0.7688400149345398]"
      ]
     },
     "execution_count": 68,
     "metadata": {},
     "output_type": "execute_result"
    }
   ],
   "source": [
    "results"
   ]
  },
  {
   "cell_type": "markdown",
   "id": "c10d53e5",
   "metadata": {},
   "source": [
    "## Lets take a scenario with 3 hidden layers, Adam as optimizer with tanh activation function using mse as loss"
   ]
  },
  {
   "cell_type": "code",
   "execution_count": 69,
   "id": "1d4a7121",
   "metadata": {},
   "outputs": [
    {
     "name": "stdout",
     "output_type": "stream",
     "text": [
      "Epoch 1/20\n",
      "59/59 [==============================] - 1s 11ms/step - loss: 1.4721 - accuracy: 0.7849 - val_loss: 1.1351 - val_accuracy: 0.8801\n",
      "Epoch 2/20\n",
      "59/59 [==============================] - 1s 9ms/step - loss: 0.9039 - accuracy: 0.9033 - val_loss: 0.6867 - val_accuracy: 0.8874\n",
      "Epoch 3/20\n",
      "59/59 [==============================] - 0s 7ms/step - loss: 0.5094 - accuracy: 0.9303 - val_loss: 0.3808 - val_accuracy: 0.8857\n",
      "Epoch 4/20\n",
      "59/59 [==============================] - 0s 7ms/step - loss: 0.2522 - accuracy: 0.9445 - val_loss: 0.1925 - val_accuracy: 0.8899\n",
      "Epoch 5/20\n",
      "59/59 [==============================] - 0s 7ms/step - loss: 0.1199 - accuracy: 0.9565 - val_loss: 0.1270 - val_accuracy: 0.8895\n",
      "Epoch 6/20\n",
      "59/59 [==============================] - 0s 7ms/step - loss: 0.0836 - accuracy: 0.9615 - val_loss: 0.1157 - val_accuracy: 0.8872\n",
      "Epoch 7/20\n",
      "59/59 [==============================] - 0s 7ms/step - loss: 0.0705 - accuracy: 0.9677 - val_loss: 0.1123 - val_accuracy: 0.8876\n",
      "Epoch 8/20\n",
      "59/59 [==============================] - 0s 7ms/step - loss: 0.0609 - accuracy: 0.9745 - val_loss: 0.1108 - val_accuracy: 0.8846\n",
      "Epoch 9/20\n",
      "59/59 [==============================] - 0s 7ms/step - loss: 0.0547 - accuracy: 0.9779 - val_loss: 0.1101 - val_accuracy: 0.8828\n",
      "Epoch 10/20\n",
      "59/59 [==============================] - 0s 7ms/step - loss: 0.0493 - accuracy: 0.9805 - val_loss: 0.1093 - val_accuracy: 0.8822\n",
      "Epoch 11/20\n",
      "59/59 [==============================] - 0s 7ms/step - loss: 0.0450 - accuracy: 0.9846 - val_loss: 0.1114 - val_accuracy: 0.8778\n",
      "Epoch 12/20\n",
      "59/59 [==============================] - 0s 7ms/step - loss: 0.0414 - accuracy: 0.9866 - val_loss: 0.1116 - val_accuracy: 0.8785\n",
      "Epoch 13/20\n",
      "59/59 [==============================] - 0s 7ms/step - loss: 0.0378 - accuracy: 0.9879 - val_loss: 0.1105 - val_accuracy: 0.8779\n",
      "Epoch 14/20\n",
      "59/59 [==============================] - 0s 8ms/step - loss: 0.0360 - accuracy: 0.9878 - val_loss: 0.1125 - val_accuracy: 0.8750\n",
      "Epoch 15/20\n",
      "59/59 [==============================] - 0s 7ms/step - loss: 0.0333 - accuracy: 0.9909 - val_loss: 0.1118 - val_accuracy: 0.8762\n",
      "Epoch 16/20\n",
      "59/59 [==============================] - 0s 7ms/step - loss: 0.0310 - accuracy: 0.9920 - val_loss: 0.1125 - val_accuracy: 0.8751\n",
      "Epoch 17/20\n",
      "59/59 [==============================] - 0s 7ms/step - loss: 0.0292 - accuracy: 0.9929 - val_loss: 0.1139 - val_accuracy: 0.8742\n",
      "Epoch 18/20\n",
      "59/59 [==============================] - 0s 7ms/step - loss: 0.0280 - accuracy: 0.9925 - val_loss: 0.1141 - val_accuracy: 0.8751\n",
      "Epoch 19/20\n",
      "59/59 [==============================] - 0s 7ms/step - loss: 0.0268 - accuracy: 0.9937 - val_loss: 0.1165 - val_accuracy: 0.8719\n",
      "Epoch 20/20\n",
      "59/59 [==============================] - 0s 7ms/step - loss: 0.0255 - accuracy: 0.9939 - val_loss: 0.1139 - val_accuracy: 0.8720\n"
     ]
    }
   ],
   "source": [
    "from tensorflow import keras\n",
    "from tensorflow.keras import layers\n",
    "from keras.layers import Dense\n",
    "from keras.layers import Dropout\n",
    "\n",
    "\n",
    "model = keras.Sequential()\n",
    "model.add(Dense(32,activation='tanh'))\n",
    "model.add(Dropout(0.5))\n",
    "model.add(Dense(32,activation='tanh',kernel_regularizer=regularizers.L1(0.01), activity_regularizer=regularizers.L2(0.01)))\n",
    "model.add(Dropout(0.5))\n",
    "model.add(Dense(32,activation='tanh'))\n",
    "model.add(Dense(1, activation='sigmoid'))\n",
    "\n",
    "model.compile(optimizer=\"adam\", #changing optimizer to ADAM\n",
    "              loss=\"mean_squared_error\",\n",
    "              metrics=[\"accuracy\"])\n",
    "\n",
    "          \n",
    "x_val = x_train[:10000]\n",
    "partial_x_train = x_train[10000:]\n",
    "y_val = y_train[:10000]\n",
    "partial_y_train = y_train[10000:]\n",
    "\n",
    "          \n",
    "\n",
    "history = model.fit(partial_x_train,\n",
    "                    partial_y_train,\n",
    "                    epochs=20,\n",
    "                    batch_size=256,\n",
    "                    validation_data=(x_val, y_val))"
   ]
  },
  {
   "cell_type": "markdown",
   "id": "35eb5c61",
   "metadata": {},
   "source": [
    "### Summary\n",
    "\n",
    "Here are the brief summary about my assignment.\n",
    "\n",
    "--> Firstly we imported the keras library from tensorflow module.\n",
    "    \n",
    "    \n",
    "    from tensorflow import keras\n",
    "    from tensorflow.keras import layers\n",
    "    from keras.layers import Dense\n",
    "    from keras.layers import Dropout\n",
    "    \n",
    "    \n",
    "--> For Implementing the neural networks, we need the layers \n",
    "    \n",
    "    1. input layer  -- using keras we try to create a model that starts with input represented using \"Keras.Sequential\"\n",
    "       model = keras.Sequential()\n",
    "    2. hidden layer -- we will add layers  using the format \"model.add(Dense(32,activation='tanh'))\"\n",
    "        model.add(Dense(32,activation='tanh'))\n",
    "        model.add(Dense(32,activation='tanh'))\n",
    "        model.add(Dense(32,activation='tanh'))\n",
    "    3. Output layer -- The ouput layer will have the 1 units which produces the unit, generally represent using \n",
    "       \"model.add(Dense(1, activation='sigmoid'))\"\n",
    "    \n",
    "\n",
    "---> Here I would like briefly explain \"model.add(Dense(32,activation='tanh'))\".\n",
    "\n",
    "Basically, we are add a dense layer that contains 32 hidden units. It contains \"tanh activation function\".\n",
    "\n",
    "The primary role of the Activation Function is to transform the summed weighted input from the node into an output value to be fed to the next hidden layer or as output.\n",
    "\n",
    "Activation function Reference: www.v7labs.com/blog/neural-networks-activation-functions\n",
    "    \n",
    "---> when we say 2 or 3 hidden layers, it contains above definition 2 or 3 times.\n",
    "---> Familar activation function are relu, tanh, sigmoid\n",
    "---> Preferably output layer will have 1 units that products the result and mostly people use sigmoid.\n",
    "\n",
    "model.compile(optimizer=\"adam\", #changing optimizer to ADAM\n",
    "              loss=\"mean_squared_error\",\n",
    "              metrics=[\"accuracy\"])\n",
    "\n",
    "--> The above statement says that it is going to compile the network using adam optimizer with loss (mse) and accuracy metric.\n",
    "\n",
    "Optimizer: Optimizers are Classes or methods used to change the attributes of your machine/deep learning model such as weights and learning rate in order to reduce the losses. \n",
    "    Optimizers help to get results faster. Available optimizers are listed below\n",
    "\n",
    "SGD\n",
    "RMSprop\n",
    "Adam\n",
    "Adadelta\n",
    "Adagrad\n",
    "Adamax\n",
    "Nadam\n",
    "Ftrl\n",
    "Optimizers Reference : \n",
    "https://keras.io/api/optimizers/\n",
    "analyticsindiamag.com/guide-to-tensorflow-keras-optimizers/\n",
    "\n",
    "Loss: The purpose of loss functions is to compute the quantity that a model should seek to minimize during training.\n",
    "    \n",
    "Available losses: we have a bunch of probabilist loss and regression loss. In the below reference it clearly explains.\n",
    "    \n",
    "Reference: https://keras.io/api/losses/\n",
    "        \n",
    "Below piece are code are splitting the data for vaidation from traininig          \n",
    "x_val = x_train[:10000]\n",
    "partial_x_train = x_train[10000:]\n",
    "y_val = y_train[:10000]\n",
    "partial_y_train = y_train[10000:]\n",
    "\n",
    "---> Lastly we train the model using the model.fit. That takes training data, also it check with validation during every eopoch and results will be plotted.\n",
    "history = model.fit(partial_x_train,\n",
    "                    partial_y_train,\n",
    "                    epochs=20,\n",
    "                    batch_size=256,\n",
    "                    validation_data=(x_val, y_val))\n",
    "\n",
    "---> The below graphs displays the plots for accuracy and loss."
   ]
  },
  {
   "cell_type": "code",
   "execution_count": 23,
   "id": "a9ec06ed",
   "metadata": {},
   "outputs": [
    {
     "data": {
      "image/png": "[encoded data removed]",
      "text/plain": [
       "<Figure size 432x288 with 1 Axes>"
      ]
     },
     "metadata": {
      "needs_background": "light"
     },
     "output_type": "display_data"
    }
   ],
   "source": [
    "plt.clf()\n",
    "acc = history_dict[\"accuracy\"]\n",
    "val_acc = history_dict[\"val_accuracy\"]\n",
    "plt.plot(epochs, acc, \"bo\", label=\"Training acc\")\n",
    "plt.plot(epochs, val_acc, \"b\", label=\"Validation acc\")\n",
    "plt.title(\"Training and validation accuracy\")\n",
    "plt.xlabel(\"Epochs\")\n",
    "plt.ylabel(\"Accuracy\")\n",
    "plt.legend()\n",
    "plt.show()"
   ]
  },
  {
   "cell_type": "code",
   "execution_count": 24,
   "id": "e394a160",
   "metadata": {},
   "outputs": [
    {
     "name": "stdout",
     "output_type": "stream",
     "text": [
      "782/782 [==============================] - 1s 982us/step - loss: 0.1316 - accuracy: 0.8554\n"
     ]
    },
    {
     "data": {
      "text/plain": [
       "[0.13158853352069855, 0.8553599715232849]"
      ]
     },
     "execution_count": 24,
     "metadata": {},
     "output_type": "execute_result"
    }
   ],
   "source": [
    "results = model.evaluate(x_test, y_test)\n",
    "results"
   ]
  },
  {
   "cell_type": "markdown",
   "id": "1040099d",
   "metadata": {},
   "source": [
    "## Conclusions\n",
    "\n",
    "##### 1. neural network designed with single layer and 3 layers\n",
    "##### 2. Activation functions tanh is used instead of relu\n",
    "##### 3. Optimizer adam is used instead of rmsprop\n",
    "##### 4. Dropout layer is added with 0.4 and 0.5 at single layer and 3 layers models respectively.\n",
    "##### 5. L1 & L2 regularizers are used.\n",
    "\n",
    "#### so finally, I conclude for this IMDB I got an training accuracy 99 % and when we look at validation accuracy amoong the \n",
    "#### two apporaches it touches 76.72 in single layer approach and 86.41 in three layered approach.\n",
    "\n",
    "### I can assume this can be increased with adding more data, initially i thought of overfitting but later upon addition of dropout layers \n",
    "### accuracy is 87.20 when i tried to use dropouts and regularizers L1 & L2 using 3 layered approach."
   ]
  },
  {
   "attachments": {
    "result.png": {
     "image/png": "[encoded data removed]"
    }
   },
   "cell_type": "markdown",
   "id": "8ea7b1aa",
   "metadata": {},
   "source": [
    "![result.png](attachment:result.png)\n"
   ]
  },
  {
   "cell_type": "code",
   "execution_count": null,
   "id": "7201d4a8",
   "metadata": {},
   "outputs": [],
   "source": []
  }
 ],
 "metadata": {
  "kernelspec": {
   "display_name": "Python 3 (ipykernel)",
   "language": "python",
   "name": "python3"
  },
  "language_info": {
   "codemirror_mode": {
    "name": "ipython",
    "version": 3
   },
   "file_extension": ".py",
   "mimetype": "text/x-python",
   "name": "python",
   "nbconvert_exporter": "python",
   "pygments_lexer": "ipython3",
   "version": "3.9.7"
  }
 },
 "nbformat": 4,
 "nbformat_minor": 5
}
